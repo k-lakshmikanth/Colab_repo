{
 "cells": [
  {
   "cell_type": "code",
   "execution_count": 1,
   "id": "6a836674-cf75-475b-a568-a2490ebb8ae3",
   "metadata": {},
   "outputs": [],
   "source": [
    "from mysql.connector import connect"
   ]
  },
  {
   "cell_type": "code",
   "execution_count": 74,
   "id": "5e00e211-bb7e-4e0e-9553-1d24fb625be6",
   "metadata": {},
   "outputs": [],
   "source": [
    "def exec_db(sql_stmt):\n",
    "    mydb = connect(host=\"localhost\", user=\"root\", password=\"root\", database=\"INDURCSM\")\n",
    "    print(sql_stmt)\n",
    "    cursor = mydb.cursor()\n",
    "    cursor.execute(sql_stmt)\n",
    "    try:\n",
    "        mydb.commit()\n",
    "    except:\n",
    "        return cursor.fetchall()\n",
    "    return res"
   ]
  },
  {
   "cell_type": "code",
   "execution_count": 11,
   "id": "7185111f-269c-4c67-be0b-bcc60973e893",
   "metadata": {},
   "outputs": [],
   "source": [
    "# exec_db(\"DROP TABLE STUDENTH\")"
   ]
  },
  {
   "cell_type": "code",
   "execution_count": 10,
   "id": "86abe228-0f81-4b4a-8423-d5ae0cbf8058",
   "metadata": {},
   "outputs": [],
   "source": [
    "exec_db(\"CREATE TABLE StudentH(NAME VARCHAR(255), ADDERSS VARCHAR(255))\")"
   ]
  },
  {
   "cell_type": "code",
   "execution_count": 12,
   "id": "9cf3f6d5-4aa9-4cfa-ac3b-a084e2b6e73a",
   "metadata": {},
   "outputs": [],
   "source": [
    "exec_db(\"ALTER TABLE STUDENTH ADD COLUMN ID INT AUTO_INCREMENT PRIMARY KEY\")"
   ]
  },
  {
   "cell_type": "code",
   "execution_count": 17,
   "id": "0c4e9bd0-c1f7-48c4-bfa9-764ca57b0472",
   "metadata": {},
   "outputs": [
    {
     "name": "stdout",
     "output_type": "stream",
     "text": [
      "INSERT INTO STUDENTH(NAME,ADDERSS) VALUES ('Shekhar','sdpt 21')\n"
     ]
    }
   ],
   "source": [
    "exec_db(\"INSERT INTO STUDENTH(NAME,ADDERSS) VALUES ('{0}','{1}')\".format(\"Shekhar\",\"sdpt 21\"))"
   ]
  },
  {
   "cell_type": "code",
   "execution_count": 80,
   "id": "3651e8d3-566d-457b-a3b0-09cffc10a71f",
   "metadata": {},
   "outputs": [
    {
     "name": "stdout",
     "output_type": "stream",
     "text": [
      "SELECT * FROM STUDENTH;\n"
     ]
    },
    {
     "data": {
      "text/plain": [
       "[('Shekhar', 'sdpt 21', 1)]"
      ]
     },
     "execution_count": 80,
     "metadata": {},
     "output_type": "execute_result"
    }
   ],
   "source": [
    "exec_db(\"SELECT * FROM STUDENTH;\")"
   ]
  },
  {
   "cell_type": "code",
   "execution_count": null,
   "id": "b5e8290e-95da-43e6-bf1b-241841c7c1e5",
   "metadata": {},
   "outputs": [],
   "source": [
    "data = [(\"\")]"
   ]
  },
  {
   "cell_type": "code",
   "execution_count": 65,
   "id": "13bc2669-67ff-46b0-81b7-6eeeabcb4b45",
   "metadata": {},
   "outputs": [
    {
     "name": "stderr",
     "output_type": "stream",
     "text": [
      "C:\\Users\\MIC LAB-41\\AppData\\Local\\Temp\\ipykernel_9148\\2150179157.py:6: UserWarning: pandas only supports SQLAlchemy connectable (engine/connection) or database string URI or sqlite3 DBAPI2 connection. Other DBAPI2 objects are not tested. Please consider using SQLAlchemy.\n",
      "  pd.read_sql(\"SELECT * FROM STUDENTH;\",mydb)\n"
     ]
    },
    {
     "data": {
      "text/html": [
       "<div>\n",
       "<style scoped>\n",
       "    .dataframe tbody tr th:only-of-type {\n",
       "        vertical-align: middle;\n",
       "    }\n",
       "\n",
       "    .dataframe tbody tr th {\n",
       "        vertical-align: top;\n",
       "    }\n",
       "\n",
       "    .dataframe thead th {\n",
       "        text-align: right;\n",
       "    }\n",
       "</style>\n",
       "<table border=\"1\" class=\"dataframe\">\n",
       "  <thead>\n",
       "    <tr style=\"text-align: right;\">\n",
       "      <th></th>\n",
       "      <th>NAME</th>\n",
       "      <th>ADDERSS</th>\n",
       "      <th>ID</th>\n",
       "    </tr>\n",
       "  </thead>\n",
       "  <tbody>\n",
       "    <tr>\n",
       "      <th>0</th>\n",
       "      <td>Shekhar</td>\n",
       "      <td>sdpt 21</td>\n",
       "      <td>1</td>\n",
       "    </tr>\n",
       "  </tbody>\n",
       "</table>\n",
       "</div>"
      ],
      "text/plain": [
       "      NAME  ADDERSS  ID\n",
       "0  Shekhar  sdpt 21   1"
      ]
     },
     "execution_count": 65,
     "metadata": {},
     "output_type": "execute_result"
    }
   ],
   "source": [
    "import pandas as pd\n",
    "\n",
    "mydb = connect(host=\"localhost\", user=\"root\", password=\"root\", database=\"INDURCSM\")\n",
    "cursor = mydb.cursor()\n",
    "\n",
    "pd.read_sql(\"SELECT * FROM STUDENTH;\",mydb)"
   ]
  },
  {
   "cell_type": "code",
   "execution_count": 3,
   "id": "a742a3e0-68d7-42d3-afcc-9755664679d1",
   "metadata": {},
   "outputs": [],
   "source": [
    "import sqlalchemy"
   ]
  },
  {
   "cell_type": "code",
   "execution_count": 6,
   "id": "0d4d89d5-e75c-4b18-98ac-99538304af8c",
   "metadata": {},
   "outputs": [
    {
     "ename": "AttributeError",
     "evalue": "module 'sqlalchemy' has no attribute 'connectors'",
     "output_type": "error",
     "traceback": [
      "\u001b[1;31m---------------------------------------------------------------------------\u001b[0m",
      "\u001b[1;31mAttributeError\u001b[0m                            Traceback (most recent call last)",
      "Cell \u001b[1;32mIn[6], line 1\u001b[0m\n\u001b[1;32m----> 1\u001b[0m help(\u001b[43msqlalchemy\u001b[49m\u001b[38;5;241;43m.\u001b[39;49m\u001b[43mconnectors\u001b[49m)\n",
      "\u001b[1;31mAttributeError\u001b[0m: module 'sqlalchemy' has no attribute 'connectors'"
     ]
    }
   ],
   "source": [
    "help(sqlalchemy.connectors)"
   ]
  },
  {
   "cell_type": "code",
   "execution_count": null,
   "id": "0645cc52-4f9a-4828-9ef8-8028b7b83bdf",
   "metadata": {},
   "outputs": [],
   "source": []
  }
 ],
 "metadata": {
  "kernelspec": {
   "display_name": "Python 3 (ipykernel)",
   "language": "python",
   "name": "python3"
  },
  "language_info": {
   "codemirror_mode": {
    "name": "ipython",
    "version": 3
   },
   "file_extension": ".py",
   "mimetype": "text/x-python",
   "name": "python",
   "nbconvert_exporter": "python",
   "pygments_lexer": "ipython3",
   "version": "3.12.0"
  }
 },
 "nbformat": 4,
 "nbformat_minor": 5
}
